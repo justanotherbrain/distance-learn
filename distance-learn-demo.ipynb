{
 "cells": [
  {
   "cell_type": "code",
   "execution_count": 1,
   "metadata": {
    "collapsed": false
   },
   "outputs": [],
   "source": [
    "import numpy as np\n",
    "import matplotlib.pyplot as plt\n",
    "import DistancePackage\n",
    "import imp"
   ]
  },
  {
   "cell_type": "code",
   "execution_count": 2,
   "metadata": {
    "collapsed": false
   },
   "outputs": [],
   "source": [
    "dl = DistancePackage.DistanceLearn()"
   ]
  },
  {
   "cell_type": "code",
   "execution_count": 3,
   "metadata": {
    "collapsed": false
   },
   "outputs": [
    {
     "name": "stdout",
     "output_type": "stream",
     "text": [
      "0.321750554397\n",
      "Optimization terminated successfully.    (Exit mode 0)\n",
      "            Current function value: 8.75931400249e-08\n",
      "            Iterations: 5\n",
      "            Function evaluations: 5\n",
      "            Gradient evaluations: 5\n",
      "1s vector returns: \n",
      "[ 0.99970404  0.99970404]\n",
      "Transformed input: \n",
      "[[ 0.24992601  0.34989641]\n",
      " [ 0.14995561  0.64980763]]\n",
      "Training KRR\n",
      "Model successfully fit\n",
      "Predicting values\n",
      "Empirical error: 0.118310\n"
     ]
    }
   ],
   "source": [
    "C = np.array([[.3, .2],\n",
    "              [.1, .8]])\n",
    "confusion_matrix = np.array([[ 0, .6],\n",
    "                             [ .6, 0]])\n",
    "C_transformed = dl.LearnSpace(C, confusion_matrix, epsilon=1)\n",
    "dl.LearnRegression(kernel='poly', epsilon=.01)"
   ]
  },
  {
   "cell_type": "code",
   "execution_count": 4,
   "metadata": {
    "collapsed": true
   },
   "outputs": [],
   "source": [
    "import matplotlib.pyplot as plt\n",
    "%matplotlib inline\n",
    "def PlotVec( v, show=False, c='k' ):\n",
    "    plt.plot([0, v[0]], [0, v[1]], color=c)\n",
    "    if show:\n",
    "        plt.show()\n"
   ]
  },
  {
   "cell_type": "code",
   "execution_count": 5,
   "metadata": {
    "collapsed": false
   },
   "outputs": [
    {
     "data": {
      "text/plain": [
       "(0, 1)"
      ]
     },
     "execution_count": 5,
     "metadata": {},
     "output_type": "execute_result"
    },
    {
     "data": {
      "image/png": "[encoded data removed]",
      "text/plain": [
       "<matplotlib.figure.Figure at 0x106c5e110>"
      ]
     },
     "metadata": {},
     "output_type": "display_data"
    }
   ],
   "source": [
    "PlotVec(C[:,0],c='r')\n",
    "PlotVec(C[:,1],c='r')\n",
    "\n",
    "PlotVec(C_transformed[:,0],c='b')\n",
    "PlotVec(C_transformed[:,1],c='b')\n",
    "plt.xlim([0,1])\n",
    "plt.ylim([0,1])\n",
    "\n"
   ]
  },
  {
   "cell_type": "code",
   "execution_count": 6,
   "metadata": {
    "collapsed": false
   },
   "outputs": [
    {
     "name": "stdout",
     "output_type": "stream",
     "text": [
      "Predicting values\n",
      "[[ 0.22267545  0.31335641]\n",
      " [ 0.13419101  0.57880974]]\n",
      "[[ 0.24992601  0.34989641]\n",
      " [ 0.14995561  0.64980763]]\n"
     ]
    }
   ],
   "source": [
    "C_hat = dl.Predict(C)\n",
    "print(C_hat)\n",
    "print(C_transformed)"
   ]
  },
  {
   "cell_type": "code",
   "execution_count": 7,
   "metadata": {
    "collapsed": false
   },
   "outputs": [
    {
     "data": {
      "text/plain": [
       "(0, 1)"
      ]
     },
     "execution_count": 7,
     "metadata": {},
     "output_type": "execute_result"
    },
    {
     "data": {
      "image/png": "[encoded data removed]",
      "text/plain": [
       "<matplotlib.figure.Figure at 0x10a3d1090>"
      ]
     },
     "metadata": {},
     "output_type": "display_data"
    }
   ],
   "source": [
    "PlotVec(C_transformed[:,0],c='b')\n",
    "PlotVec(C_transformed[:,1],c='b')\n",
    "\n",
    "PlotVec(C_hat[:,0],c='g')\n",
    "PlotVec(C_hat[:,1],c='g')\n",
    "plt.xlim([0,1])\n",
    "plt.ylim([0,1])\n"
   ]
  }
 ],
 "metadata": {
  "kernelspec": {
   "display_name": "Python 2",
   "language": "python",
   "name": "python2"
  },
  "language_info": {
   "codemirror_mode": {
    "name": "ipython",
    "version": 2
   },
   "file_extension": ".py",
   "mimetype": "text/x-python",
   "name": "python",
   "nbconvert_exporter": "python",
   "pygments_lexer": "ipython2",
   "version": "2.7.10"
  }
 },
 "nbformat": 4,
 "nbformat_minor": 0
}
